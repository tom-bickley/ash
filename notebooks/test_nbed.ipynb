{
 "cells": [
  {
   "cell_type": "code",
   "execution_count": 1,
   "id": "911d5efa",
   "metadata": {},
   "outputs": [
    {
     "name": "stdout",
     "output_type": "stream",
     "text": [
      "ashpath: /Users/tom/Documents/ucl/projects/ash-fork/ash\n",
      "Sys path: ['/Users/tom/Documents/ucl/projects/ash-fork/ash', '/Users/tom/.local/share/uv/python/cpython-3.11.12-macos-aarch64-none/lib/python311.zip', '/Users/tom/.local/share/uv/python/cpython-3.11.12-macos-aarch64-none/lib/python3.11', '/Users/tom/.local/share/uv/python/cpython-3.11.12-macos-aarch64-none/lib/python3.11/lib-dynload', '', '/Users/tom/Documents/ucl/projects/ash-fork/.venv/lib/python3.11/site-packages', '__editable__.ash-0.95.finder.__path_hook__']\n"
     ]
    },
    {
     "name": "stderr",
     "output_type": "stream",
     "text": [
      "/Users/tom/Documents/ucl/projects/ash-fork/.venv/lib/python3.11/site-packages/pennylane/__init__.py:21: UserWarning: pkg_resources is deprecated as an API. See https://setuptools.pypa.io/en/latest/pkg_resources.html. The pkg_resources package is slated for removal as early as 2025-11-30. Refrain from using this package or pin to Setuptools<81.\n",
      "  import pkg_resources\n"
     ]
    },
    {
     "name": "stdout",
     "output_type": "stream",
     "text": [
      "--------------------------------------------------------------------------------\n",
      "--------------------------------------------------------------------------------\n",
      "                                           ASH                                            \n",
      "                              A MULTISCALE MODELLING PROGRAM                              \n",
      "                                        Version: 0.9dev                                        \n",
      "                               Git commit version: Unknown                                \n",
      "--------------------------------------------------------------------------------\n",
      "--------------------------------------------------------------------------------\n",
      "ASH path: /Users/tom/Documents/ucl/projects/ash-fork/ash\n",
      "Python version: 3.11.12\n",
      "Python interpreter: /Users/tom/Documents/ucl/projects/ash-fork/.venv/bin/python\n",
      "\n",
      "ASH Settings after reading defaults and ~/ash_user_settings.ini : \n",
      "See https://ash.readthedocs.io/en/latest/basics.html#ash-settings on how to change settings.\n",
      "\t debugflag :  False\n",
      "\t load_julia :  False\n",
      "\t julia_library :  pythoncall\n",
      "\t use_ANSI_color :  False\n",
      "\t print_logo :  False\n",
      "\t print_input :  True\n",
      "\t scale :  1.0\n",
      "\t tol :  0.1\n",
      "\t conndepth :  10\n",
      "\t connectivity_code :  julia\n",
      "\t nonbondedMM_code :  julia\n",
      "\t print_exit_footer :  True\n",
      "\t print_full_timings :  True\n",
      "\n",
      "Note: ASH can use ANSI escape sequences for displaying color. Use e.g. less -R to display\n",
      "To turn on/off escape sequences, set: 'use_ANSI_color = False' in\n",
      "~/ash_user_settings.ini\n",
      "\n"
     ]
    }
   ],
   "source": [
    "from ash import *"
   ]
  },
  {
   "cell_type": "code",
   "execution_count": 2,
   "id": "6d203adc",
   "metadata": {},
   "outputs": [
    {
     "name": "stdout",
     "output_type": "stream",
     "text": [
      "\n",
      "--------------------------------------------------------------------------------\n",
      "                                New ASH fragment                                \n",
      "--------------------------------------------------------------------------------\n",
      "\n",
      "ASH Fragment creation\n",
      "Reading coordinates from XYZ file 'water.xyz' into fragment.\n",
      "Creating/Updating fragment attributes...\n",
      "Number of Atoms in fragment: 3\n",
      "Formula: O1H2\n",
      "Label: water\n",
      "Charge: 0 Mult: 1\n",
      "\n",
      "--------------------------------------------------------------------------------\n"
     ]
    }
   ],
   "source": [
    "#Defining fragment\n",
    "water_frag=Fragment(xyzfile=\"water.xyz\", charge=0, mult=1)"
   ]
  },
  {
   "cell_type": "code",
   "execution_count": 3,
   "id": "c7134a50",
   "metadata": {},
   "outputs": [
    {
     "name": "stdout",
     "output_type": "stream",
     "text": [
      "3\n",
      "\n",
      "O 0.0 0.0 0.0\n",
      "H 0.0 0.758081 -0.635808\n",
      "H -0.0 -0.758081 -0.635808\n"
     ]
    }
   ],
   "source": [
    "xyz_list = [i for i in zip(water_frag.elems, water_frag.coords)]\n",
    "\n",
    "lines = [str(len(xyz_list)), '']\n",
    "for symbol, coords in xyz_list:\n",
    "    line = f\"{symbol} {coords[0]} {coords[1]} {coords[2]}\"\n",
    "    lines.append(line)\n",
    "\n",
    "xyz_string = \"\\n\".join(lines)\n",
    "print(xyz_string)"
   ]
  },
  {
   "cell_type": "code",
   "execution_count": 4,
   "id": "0c53b511",
   "metadata": {},
   "outputs": [
    {
     "name": "stdout",
     "output_type": "stream",
     "text": [
      "\n",
      "\n",
      "                     #####################################                      \n",
      "                     #                                   #                      \n",
      "                     #     NbedTheory initialization     #                      \n",
      "                     #                                   #                      \n",
      "                     #####################################                      \n"
     ]
    }
   ],
   "source": [
    "nbedobject = NbedTheory(\n",
    "    geometry=xyz_string,\n",
    "    n_active_atoms=1,\n",
    "    basis=\"sto-3g\",\n",
    "    xc_functional=\"b3lyp\",\n",
    "    projector='mu',\n",
    "    localization='spade'\n",
    ")"
   ]
  },
  {
   "cell_type": "code",
   "execution_count": 5,
   "id": "4969928e",
   "metadata": {},
   "outputs": [
    {
     "name": "stdout",
     "output_type": "stream",
     "text": [
      "\n",
      "\n",
      "                        ################################                        \n",
      "                        #                              #                        \n",
      "                        #     Singlepoint function     #                        \n",
      "                        #                              #                        \n",
      "                        ################################                        \n",
      " Charge/mult was not provided to Singlepoint \n",
      " Fragment contains charge/mult information: Charge: 0 Mult: 1  Using this. \n",
      "\n",
      "Doing single-point Energy job on fragment. Formula: O1H2 Label: water \n",
      "Charge: 0 Mult: 1\n",
      "Energy:  -75.14512909216526\n",
      "\n",
      "-----------------------------------------------------------------\n",
      "Time to calculate step (Singlepoint): 0.147 seconds, 0.0 minutes.\n",
      "-----------------------------------------------------------------\n",
      "\n",
      "Writing to disk defined attributes of ASH_Results dataclass\n",
      "Results object data:\n",
      "label : Singlepoint\n",
      "energy : -75.14512909216526\n",
      "charge : 0\n",
      "mult : 1\n"
     ]
    },
    {
     "name": "stderr",
     "output_type": "stream",
     "text": [
      "/Users/tom/Documents/ucl/projects/ash-fork/.venv/lib/python3.11/site-packages/pyscf/dft/libxc.py:512: UserWarning: Since PySCF-2.3, B3LYP (and B3P86) are changed to the VWN-RPA variant, corresponding to the original definition by Stephens et al. (issue 1480) and the same as the B3LYP functional in Gaussian. To restore the VWN5 definition, you can put the setting \"B3LYP_WITH_VWN5 = True\" in pyscf_conf.py\n",
      "  warnings.warn('Since PySCF-2.3, B3LYP (and B3P86) are changed to the VWN-RPA variant, '\n",
      "Warning: <pyscf.gto.mole.Mole object at 0x1478aa210> must be initialized before calling SCF.\n",
      "Initialize <pyscf.gto.mole.Mole object at 0x1478aa210> in <pyscf.dft.rks.RKS object at 0x147ade4d0>\n"
     ]
    },
    {
     "data": {
      "text/plain": [
       "ASH_Results(label='Singlepoint', energy=np.float64(-75.14512909216526), qm_energy=None, mm_energy=None, qmmm_energy=None, gradient=None, reaction_energy=None, energy_contributions=None, energies=None, reaction_energies=None, relative_energies=None, labels=None, gradients=None, energies_dict=None, gradients_dict=None, worker_dirnames=None, geometry=None, initial_geometry=None, charge=0, mult=1, properties=None, hessian=None, frequencies=None, freq_masses=None, freq_elems=None, freq_coords=None, freq_atoms=None, freq_TRmodenum=None, freq_projection=None, freq_scaling_factor=None, freq_dipole_derivs=None, freq_polarizability_derivs=None, freq_Raman=None, normal_modes=None, Raman_activities=None, IR_intensities=None, depolarization_ratios=None, vib_eigenvectors=None, thermochemistry=None, displacement_dipole_dictionary=None, displacement_polarizability_dictionary=None, surfacepoints=None, reactant_geometry=None, product_geometry=None, saddlepoint_geometry=None, saddlepoint_fragment=None, MEP_energies_dict=None, barrier_energy=None)"
      ]
     },
     "execution_count": 5,
     "metadata": {},
     "output_type": "execute_result"
    }
   ],
   "source": [
    "Singlepoint(theory=nbedobject, fragment=water_frag)"
   ]
  },
  {
   "cell_type": "code",
   "execution_count": 13,
   "id": "c6eec74a",
   "metadata": {},
   "outputs": [],
   "source": [
    "from nbed.driver import NbedDriver"
   ]
  },
  {
   "cell_type": "code",
   "execution_count": 14,
   "id": "380b43ec",
   "metadata": {},
   "outputs": [
    {
     "name": "stderr",
     "output_type": "stream",
     "text": [
      "Warning: <pyscf.gto.mole.Mole object at 0x150ce2610> must be initialized before calling SCF.\n",
      "Initialize <pyscf.gto.mole.Mole object at 0x150ce2610> in <pyscf.dft.rks.RKS object at 0x14818ab50>\n"
     ]
    }
   ],
   "source": [
    "driver = NbedDriver(\n",
    "    geometry=xyz_string,\n",
    "    n_active_atoms=1,\n",
    "    basis=\"sto-3g\",\n",
    "    xc_functional=\"b3lyp\",\n",
    "    projector='mu',\n",
    "    localization='spade'\n",
    ")"
   ]
  },
  {
   "cell_type": "code",
   "execution_count": 18,
   "id": "5dc48000",
   "metadata": {},
   "outputs": [
    {
     "data": {
      "text/plain": [
       "<pyscf.grad.rks.Gradients at 0x1513b8590>"
      ]
     },
     "execution_count": 18,
     "metadata": {},
     "output_type": "execute_result"
    }
   ],
   "source": [
    "driver._global_ks.nuc_grad_method()"
   ]
  },
  {
   "cell_type": "code",
   "execution_count": 20,
   "id": "efc713c7",
   "metadata": {},
   "outputs": [],
   "source": [
    "proj_data = driver._mu"
   ]
  },
  {
   "cell_type": "code",
   "execution_count": 21,
   "id": "724ce37d",
   "metadata": {},
   "outputs": [
    {
     "name": "stdout",
     "output_type": "stream",
     "text": [
      "-75.14512909216526\n"
     ]
    }
   ],
   "source": [
    "emb_corr = (\n",
    "    driver.e_env\n",
    "    + driver.two_e_cross\n",
    "    - proj_data[\"correction\"]\n",
    "    - proj_data[\"beta_correction\"]\n",
    ")\n",
    "\n",
    "emb_ccsd, _ = driver._run_emb_CCSD(driver.embedded_scf)\n",
    "emb_ccsdt_energy = emb_ccsd.e_tot + emb_ccsd.ccsd_t()\n",
    "\n",
    "print(emb_ccsdt_energy + emb_corr)"
   ]
  },
  {
   "cell_type": "code",
   "execution_count": 22,
   "id": "97b8c6f8",
   "metadata": {},
   "outputs": [],
   "source": [
    "import pyscf"
   ]
  },
  {
   "cell_type": "code",
   "execution_count": 24,
   "id": "f0dd941b",
   "metadata": {},
   "outputs": [],
   "source": [
    "mol = pyscf.M(\n",
    "    atom='water.xyz',\n",
    "    basis=\"sto-3g\",\n",
    "    charge=0,\n",
    "    spin=0,\n",
    "    verbose=0\n",
    ")"
   ]
  },
  {
   "cell_type": "code",
   "execution_count": 26,
   "id": "cbb952a3",
   "metadata": {},
   "outputs": [],
   "source": [
    "rhf = pyscf.scf.RHF(mol).run()"
   ]
  },
  {
   "cell_type": "code",
   "execution_count": 27,
   "id": "9243bf27",
   "metadata": {},
   "outputs": [
    {
     "data": {
      "text/plain": [
       "np.float64(-74.96590119225972)"
      ]
     },
     "execution_count": 27,
     "metadata": {},
     "output_type": "execute_result"
    }
   ],
   "source": [
    "rhf.e_tot"
   ]
  },
  {
   "cell_type": "code",
   "execution_count": 28,
   "id": "86664685",
   "metadata": {},
   "outputs": [],
   "source": [
    "cc = pyscf.cc.CCSD(rhf).run()"
   ]
  },
  {
   "cell_type": "code",
   "execution_count": 29,
   "id": "cf69e44b",
   "metadata": {},
   "outputs": [],
   "source": [
    "ccsd = cc.e_tot + cc.ccsd_t()"
   ]
  },
  {
   "cell_type": "code",
   "execution_count": 30,
   "id": "06c556b4",
   "metadata": {},
   "outputs": [
    {
     "data": {
      "text/plain": [
       "np.float64(-75.0203517454274)"
      ]
     },
     "execution_count": 30,
     "metadata": {},
     "output_type": "execute_result"
    }
   ],
   "source": [
    "ccsd"
   ]
  },
  {
   "cell_type": "code",
   "execution_count": 31,
   "id": "7a25bb34",
   "metadata": {},
   "outputs": [],
   "source": [
    "import matplotlib.pyplot as plt"
   ]
  },
  {
   "cell_type": "code",
   "execution_count": 32,
   "id": "93b9c4bd",
   "metadata": {},
   "outputs": [
    {
     "data": {
      "text/plain": [
       "[<matplotlib.lines.Line2D at 0x1346aabd0>]"
      ]
     },
     "execution_count": 32,
     "metadata": {},
     "output_type": "execute_result"
    },
    {
     "data": {
      "image/png": "[encoded data removed]",
      "text/plain": [
       "<Figure size 640x480 with 1 Axes>"
      ]
     },
     "metadata": {},
     "output_type": "display_data"
    }
   ],
   "source": [
    "plt.plot([1, 2, 3], [-74.96590119225972, -75.14512909216526, -75.0203517454274])"
   ]
  },
  {
   "cell_type": "code",
   "execution_count": null,
   "id": "e2c7d000",
   "metadata": {},
   "outputs": [],
   "source": []
  }
 ],
 "metadata": {
  "kernelspec": {
   "display_name": "ash",
   "language": "python",
   "name": "python3"
  },
  "language_info": {
   "codemirror_mode": {
    "name": "ipython",
    "version": 3
   },
   "file_extension": ".py",
   "mimetype": "text/x-python",
   "name": "python",
   "nbconvert_exporter": "python",
   "pygments_lexer": "ipython3",
   "version": "3.11.12"
  }
 },
 "nbformat": 4,
 "nbformat_minor": 5
}
